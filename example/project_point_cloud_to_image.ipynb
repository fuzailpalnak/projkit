{
 "cells": [
  {
   "cell_type": "code",
   "execution_count": null,
   "id": "d7aff8fb-ae62-406f-bf69-18ad7b9cdcd3",
   "metadata": {},
   "outputs": [],
   "source": [
    "import laspy\n",
    "import os\n",
    "import sys\n",
    "import numpy as np\n",
    "import matplotlib.pyplot as plt"
   ]
  },
  {
   "cell_type": "code",
   "execution_count": null,
   "id": "e1ca8d3b-7a5d-4be9-ae2e-d968a54ba1e7",
   "metadata": {},
   "outputs": [],
   "source": [
    "module_path = os.path.abspath(os.path.join('../'))\n",
    "if module_path not in sys.path:\n",
    "    sys.path.append(module_path)"
   ]
  },
  {
   "cell_type": "markdown",
   "id": "7809a664-a639-45e5-9342-50eedafd0a5a",
   "metadata": {},
   "source": [
    "### Intrinsic Param"
   ]
  },
  {
   "cell_type": "code",
   "execution_count": null,
   "id": "390dae30-d97e-4b5c-a969-547245443743",
   "metadata": {},
   "outputs": [],
   "source": [
    "# Intrinsic Param\n",
    "fx = 0\n",
    "fy = 0\n",
    "k1 = 0\n",
    "k2 = 0\n",
    "k3 = 0\n",
    "k4 = 0\n",
    "Cx = 0\n",
    "Cy = 0\n",
    "P1 = 0\n",
    "P2 = 0\n",
    "Nx = 0\n",
    "Ny = 0\n",
    "dx = 0\n",
    "dy = 0\n"
   ]
  },
  {
   "cell_type": "markdown",
   "id": "e264be45-6342-4a5b-b30c-c45d18321e57",
   "metadata": {},
   "source": [
    "### Extrinsic Param"
   ]
  },
  {
   "cell_type": "code",
   "execution_count": null,
   "id": "bce01daf-fd4b-4fb0-8e33-5dd99b6ee576",
   "metadata": {},
   "outputs": [],
   "source": [
    "# Extrinsic Param\n",
    "filename = \"test.jpg\"\n",
    "roll = 0\n",
    "pitch = 0\n",
    "yaw = 0\n",
    "\n",
    "omega = 0\n",
    "phi = 0\n",
    "kappa = 0\n",
    "\n",
    "camera_center = (0, 0, 0)\n",
    "direction = (0, 0, 0)\n",
    "up = (0, 0, 0)\n"
   ]
  },
  {
   "cell_type": "markdown",
   "id": "f31d9e67-08a7-41fd-813e-abcf14e271cc",
   "metadata": {},
   "source": [
    "### Read Point CLoud"
   ]
  },
  {
   "cell_type": "code",
   "execution_count": null,
   "id": "f1a9a305-4502-4bb5-a271-630f654bc1ae",
   "metadata": {},
   "outputs": [],
   "source": [
    "def read_laz_file(file_path: str) -> np.ndarray:\n",
    "    point_cloud = laspy.read(file_path)\n",
    "    x = point_cloud.x\n",
    "    y = point_cloud.y\n",
    "    z = point_cloud.z\n",
    "    return np.vstack((x, y, z)).T"
   ]
  },
  {
   "cell_type": "code",
   "execution_count": null,
   "id": "5764110a-320c-4516-a405-0da406f074a8",
   "metadata": {},
   "outputs": [],
   "source": [
    "wc = read_laz_file(r\"Cloud.laz\")"
   ]
  },
  {
   "cell_type": "markdown",
   "id": "72e6cf10-7be9-499c-a745-f21d159097d1",
   "metadata": {},
   "source": [
    "### Generate requied matrices for projection"
   ]
  },
  {
   "cell_type": "code",
   "execution_count": null,
   "id": "9e4f3239-250e-4f44-9012-8f0b7a6c7266",
   "metadata": {},
   "outputs": [],
   "source": [
    "from projkit.camops import get_int_mat, get_R, get_t_from_R_C"
   ]
  },
  {
   "cell_type": "code",
   "execution_count": null,
   "id": "f07fb09f-b12e-4806-9ac3-9e2b298508fe",
   "metadata": {},
   "outputs": [],
   "source": [
    "K = get_int_mat(fx, fy, Cx, Cy)\n",
    "R = get_R(roll, pitch, yaw)\n",
    "t = get_t_from_R_C(R, np.array(camera_center))\n",
    "d = np.array(\n",
    "            [\n",
    "                k1,\n",
    "                k2,\n",
    "                P1,\n",
    "                P2,\n",
    "                k3,\n",
    "            ]\n",
    "        )\n",
    "# print(f\"K = {K}, \\n\\nR = {R}, \\n\\nt = {t}, \\n\\nd = {d}\")"
   ]
  },
  {
   "cell_type": "markdown",
   "id": "60d8657b-c7a3-4434-90a5-5b3d528d5773",
   "metadata": {},
   "source": [
    "### Project Data\n",
    "\n",
    "The function returns projected image coordinates 'ic', its corresponding world coordinates 'wc' and the z_values  "
   ]
  },
  {
   "cell_type": "code",
   "execution_count": null,
   "id": "2843e9c3-9c7d-459e-b506-3ca19999db5a",
   "metadata": {},
   "outputs": [],
   "source": [
    "from projkit.camops import project_in_2d_with_K_R_t_dist_coeff"
   ]
  },
  {
   "cell_type": "code",
   "execution_count": null,
   "id": "8d3ce9b0-0553-4e18-96e6-752ff35a8276",
   "metadata": {},
   "outputs": [],
   "source": [
    "ic, wc, z_values = project_in_2d_with_K_R_t_dist_coeff(K, R, t, d, wc)"
   ]
  },
  {
   "cell_type": "markdown",
   "id": "e10b8bb6-c57f-452a-82a9-8ce771b7fb53",
   "metadata": {},
   "source": [
    "### Remove Data which does not lie in the image"
   ]
  },
  {
   "cell_type": "code",
   "execution_count": null,
   "id": "e624dc67-e5b8-4233-9f55-b98428c9c218",
   "metadata": {},
   "outputs": [],
   "source": [
    "from projkit.imutils import to_image, filter_image_and_world_points_with_img_dim"
   ]
  },
  {
   "cell_type": "code",
   "execution_count": null,
   "id": "8dcd0d8d-a008-4d57-a6f7-5a079c273555",
   "metadata": {},
   "outputs": [],
   "source": [
    "ic, wc, z = filter_image_and_world_points_with_img_dim(Nx, Ny, ic, wc)"
   ]
  },
  {
   "cell_type": "code",
   "execution_count": null,
   "id": "46c32357-650e-41a2-a14e-5a22ef57030a",
   "metadata": {},
   "outputs": [],
   "source": [
    "projectection_on_image = to_image(Ny, Nx, ic, wc)\n",
    "plt.imshow(projectection_on_image, cmap='gray')"
   ]
  }
 ],
 "metadata": {
  "kernelspec": {
   "display_name": "Python 3 (ipykernel)",
   "language": "python",
   "name": "python3"
  },
  "language_info": {
   "codemirror_mode": {
    "name": "ipython",
    "version": 3
   },
   "file_extension": ".py",
   "mimetype": "text/x-python",
   "name": "python",
   "nbconvert_exporter": "python",
   "pygments_lexer": "ipython3",
   "version": "3.8.13"
  }
 },
 "nbformat": 4,
 "nbformat_minor": 5
}
